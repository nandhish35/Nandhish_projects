{
 "cells": [
  {
   "cell_type": "code",
   "execution_count": 47,
   "metadata": {},
   "outputs": [],
   "source": [
    "train_set_pos_path = \"E:/Datamining/Data/Training Data/pos/\"\n",
    "train_set_neg_path = \"E:/Datamining/Data/Training Data/neg/\"\n",
    "\n",
    "test_set_pos_path = \"E:/Datamining/Data/Test Data/pos/\"\n",
    "test_set_neg_path = \"E:/Datamining/Data/Test Data/neg/\"\n"
   ]
  },
  {
   "cell_type": "code",
   "execution_count": 48,
   "metadata": {},
   "outputs": [],
   "source": [
    "def load_file(filepath):\n",
    "    file = open(filepath, 'r')  # open the file in the read only mode\n",
    "    text = file.read()          # read the contents of the file\n",
    "    file.close()                # close the file \n",
    "    return text"
   ]
  },
  {
   "cell_type": "code",
   "execution_count": 49,
   "metadata": {},
   "outputs": [],
   "source": [
    "from nltk.corpus import stopwords\n",
    "import string\n",
    "\n",
    "def clean_file(file):\n",
    "    tokens = file.split()                                 # split into tokens on whitespace\n",
    "    \n",
    "    table = str.maketrans('' , '', string.punctuation)    # remove punctuation\n",
    "    tokens = [w.translate(table) for w in tokens]\n",
    "    \n",
    "    tokens = [word for word in tokens if word.isalpha()]  # remove non-alphabetic tokens\n",
    "    \n",
    "    set_of_stop_words = set(stopwords.words('english'))   # remove stop words\n",
    "    tokens = [word for word in tokens if not word in set_of_stop_words]\n",
    "    \n",
    "    tokens = [word for word in tokens if len(word) > 1]   # remove tokens of length <= 1\n",
    "    \n",
    "    return tokens"
   ]
  },
  {
   "cell_type": "code",
   "execution_count": 50,
   "metadata": {},
   "outputs": [
    {
     "name": "stdout",
     "output_type": "stream",
     "text": [
      "\n",
      "************************************************PRE CLEANING(ORIGINAL TEXT)**********************************************\n",
      "\n",
      "plot : derek zoolander is a male model . \n",
      "he is also very dumb and impressionable . \n",
      "for that reason , he is secretly hired and trained ( so secret , that even he doesn't know about it ) by an underground fashion syndicate to assassinate the prime minister of malaysia , who wants to abolish child labor in his country . \n",
      "will zoolander fulfill the dirty deed ? \n",
      "will zoolander ever grace the world his new \" look \" ? \n",
      "is this a funny movie ? \n",
      "find out below . . . \n",
      "critique : there's a place in our world for \" stupid comedies \" . \n",
      "films which don't pretend to take themselves seriously , are based on idiotic premises and filled with dumb jokes . \n",
      "there's also a time for them and many would argue that this difficult period of our history , might be an ideal circumstance during which to \" relax \" by watching something so completely frivolous . \n",
      "well , if you're in the mood for some seriously mindless entertainment , ben stiller and his cast of many have assembled one of the more original dumb comedies in some time . \n",
      "of course , comedies as such are usually very subjective and i could see how some will see this film simply as stupid and unfunny , while others will grant them the \" stupid \" , but consider it funny instead . \n",
      "i personally enjoyed it for the most part , cracked up loudly during a couple of specific sequences and loved the derek zoolander character and the unrestrained whipping they released upon the fashion industry . \n",
      "snap ! \n",
      "it was also nice to see several real-life models with small roles in the movie , not taking themselves too seriously . \n",
      "and if you're the type of person who likes celebrity cameos in films , well , don't look any further because dozens of famous faces show up here including vince vaughn , billy zane , winona ryder , christian slater , david duchovny , natalie portman and many , many others . \n",
      "i especially liked andy dick's complete make-over as the masseuse . \n",
      "hi-larious ! \n",
      "but with all films of this type , there is bound to be some stuff that simply doesn't work . \n",
      "a few particulars which didn't strike my fancy included the bulimia and \" orgy \" sequence with christine taylor , the break-dance fighting , and i also never get why they use real countries in plots like this ( why not just \" make up \" a country , instead of zeroing in on a certain people ? ) . \n",
      "i also could have done with less of the taylor character in general , since she wasn't all that interesting and seemed to slow things down every now and then ( more zoolander , dude ! ) . \n",
      "but those few missteps were nothing compared to some of the more memorable scenes which definitely did work for me ! \n",
      "i almost pissed myself during the \" gas station \" disaster , absolutely adored the \" walk-off \" contest ( with david bowie as the judge , no less ) and appreciated many of zoolander's moronic one-liners ( \" i was a merman . . . a \n",
      "merman ! ! \" ) . \n",
      "and i dare you to get his \" monkey \" photo shoot out of your head after seeing this movie ( \" you're a monkey , derek . . . a \n",
      "monkey ! \" ) \n",
      "i also really liked the soundtrack and the pace of the film , both of which zipped and zagged , and established a nice rhythm to it all . \n",
      "again , it's to note that this movie is dumb and not for everyone , but my guess is that if you laughed at the trailer , you will likely enjoy many of the quips in the actual picture as well . \n",
      "if you thought the trailer was dumb , skip this dodo bird and go rent austin powers again or something , a film from which there is an obvious influence here . \n",
      "blue steel , baby . . . yeah ! ! ! \n",
      "where's joblo coming from ? \n",
      "austin powers ( 7/10 ) - austin powers 2 ( 7/10 ) - deuce bigalow ( 7/10 ) - dude , where's my car ( 7/10 ) - freddy got fingered ( 5/10 ) - jay & silent bob strike back ( 8/10 ) - joe dirt ( 5/10 ) - meet the parents ( 8/10 ) - say it isn't so ( 3/10 ) \n",
      "\n",
      "*************************************************POST CLEANING(TOKENS)***************************************************\n",
      "\n",
      "['plot', 'derek', 'zoolander', 'male', 'model', 'also', 'dumb', 'impressionable', 'reason', 'secretly', 'hired', 'trained', 'secret', 'even', 'doesnt', 'know', 'underground', 'fashion', 'syndicate', 'assassinate', 'prime', 'minister', 'malaysia', 'wants', 'abolish', 'child', 'labor', 'country', 'zoolander', 'fulfill', 'dirty', 'deed', 'zoolander', 'ever', 'grace', 'world', 'new', 'look', 'funny', 'movie', 'find', 'critique', 'theres', 'place', 'world', 'stupid', 'comedies', 'films', 'dont', 'pretend', 'take', 'seriously', 'based', 'idiotic', 'premises', 'filled', 'dumb', 'jokes', 'theres', 'also', 'time', 'many', 'would', 'argue', 'difficult', 'period', 'history', 'might', 'ideal', 'circumstance', 'relax', 'watching', 'something', 'completely', 'frivolous', 'well', 'youre', 'mood', 'seriously', 'mindless', 'entertainment', 'ben', 'stiller', 'cast', 'many', 'assembled', 'one', 'original', 'dumb', 'comedies', 'time', 'course', 'comedies', 'usually', 'subjective', 'could', 'see', 'see', 'film', 'simply', 'stupid', 'unfunny', 'others', 'grant', 'stupid', 'consider', 'funny', 'instead', 'personally', 'enjoyed', 'part', 'cracked', 'loudly', 'couple', 'specific', 'sequences', 'loved', 'derek', 'zoolander', 'character', 'unrestrained', 'whipping', 'released', 'upon', 'fashion', 'industry', 'snap', 'also', 'nice', 'see', 'several', 'reallife', 'models', 'small', 'roles', 'movie', 'taking', 'seriously', 'youre', 'type', 'person', 'likes', 'celebrity', 'cameos', 'films', 'well', 'dont', 'look', 'dozens', 'famous', 'faces', 'show', 'including', 'vince', 'vaughn', 'billy', 'zane', 'winona', 'ryder', 'christian', 'slater', 'david', 'duchovny', 'natalie', 'portman', 'many', 'many', 'others', 'especially', 'liked', 'andy', 'dicks', 'complete', 'makeover', 'masseuse', 'hilarious', 'films', 'type', 'bound', 'stuff', 'simply', 'doesnt', 'work', 'particulars', 'didnt', 'strike', 'fancy', 'included', 'bulimia', 'orgy', 'sequence', 'christine', 'taylor', 'breakdance', 'fighting', 'also', 'never', 'get', 'use', 'real', 'countries', 'plots', 'like', 'make', 'country', 'instead', 'zeroing', 'certain', 'people', 'also', 'could', 'done', 'less', 'taylor', 'character', 'general', 'since', 'wasnt', 'interesting', 'seemed', 'slow', 'things', 'every', 'zoolander', 'dude', 'missteps', 'nothing', 'compared', 'memorable', 'scenes', 'definitely', 'work', 'almost', 'pissed', 'gas', 'station', 'disaster', 'absolutely', 'adored', 'walkoff', 'contest', 'david', 'bowie', 'judge', 'less', 'appreciated', 'many', 'zoolanders', 'moronic', 'oneliners', 'merman', 'merman', 'dare', 'get', 'monkey', 'photo', 'shoot', 'head', 'seeing', 'movie', 'youre', 'monkey', 'derek', 'monkey', 'also', 'really', 'liked', 'soundtrack', 'pace', 'film', 'zipped', 'zagged', 'established', 'nice', 'rhythm', 'note', 'movie', 'dumb', 'everyone', 'guess', 'laughed', 'trailer', 'likely', 'enjoy', 'many', 'quips', 'actual', 'picture', 'well', 'thought', 'trailer', 'dumb', 'skip', 'dodo', 'bird', 'go', 'rent', 'austin', 'powers', 'something', 'film', 'obvious', 'influence', 'blue', 'steel', 'baby', 'yeah', 'wheres', 'joblo', 'coming', 'austin', 'powers', 'austin', 'powers', 'deuce', 'bigalow', 'dude', 'wheres', 'car', 'freddy', 'got', 'fingered', 'jay', 'silent', 'bob', 'strike', 'back', 'joe', 'dirt', 'meet', 'parents', 'say', 'isnt']\n",
      "*************************************************************************************************************************\n",
      "\n"
     ]
    }
   ],
   "source": [
    "# an example to understand the effects of load_file and clean_file methods\n",
    "\n",
    "filename = 'E:/Datamining/Data/Training Data/pos/cv034_29647.txt'\n",
    "text = load_file(filename)\n",
    "tokens = clean_file(text)\n",
    "\n",
    "print(\"\\n************************************************PRE CLEANING(ORIGINAL TEXT)**********************************************\\n\")\n",
    "print(text)\n",
    "print(\"*************************************************POST CLEANING(TOKENS)***************************************************\\n\")\n",
    "print(tokens)\n",
    "print(\"*************************************************************************************************************************\\n\")"
   ]
  },
  {
   "cell_type": "code",
   "execution_count": 51,
   "metadata": {},
   "outputs": [
    {
     "name": "stdout",
     "output_type": "stream",
     "text": [
      "The length of the vocab:  44276\n",
      "\n",
      "Top 10 frequently occuring words: [('film', 7983), ('one', 4946), ('movie', 4826), ('like', 3201), ('even', 2262), ('good', 2080), ('time', 2041), ('story', 1907), ('films', 1873), ('would', 1844)]\n"
     ]
    }
   ],
   "source": [
    "from os import listdir\n",
    "from collections import Counter\n",
    "\n",
    "def add_words_to_vocab_and_update_count(directory, vocab):\n",
    "    for filename in listdir(directory):\n",
    "        filepath = directory + '/' + filename\n",
    "        text = load_file(filepath)  # load the file\n",
    "        tokens = clean_file(text)   # clean the file\n",
    "        vocab.update(tokens)        # update count of the word in the vocab\n",
    "    \n",
    "vocab = Counter()   # to hold tokens and their respective counts. Eg: [('tok1',tok1_count), ('tok2',tok2_count),...]\n",
    "\n",
    "add_words_to_vocab_and_update_count('E:/Datamining/Data/Training Data/pos', vocab)\n",
    "add_words_to_vocab_and_update_count('E:/Datamining/Data/Training Data/neg', vocab)\n",
    "\n",
    "print('The length of the vocab: ',len(vocab))\n",
    "print('\\nTop 10 frequently occuring words:',vocab.most_common(10))"
   ]
  },
  {
   "cell_type": "code",
   "execution_count": 52,
   "metadata": {},
   "outputs": [
    {
     "name": "stdout",
     "output_type": "stream",
     "text": [
      "Total Tokens (Before):  44276\n",
      "Total Tokens (After) :  25767\n"
     ]
    }
   ],
   "source": [
    "min_occurrence = 2\n",
    "\n",
    "print('Total Tokens (Before): ',len(vocab))\n",
    "tokens = [token for token,count in vocab.items() if count >= min_occurrence]    # list of tokens with count >= 2\n",
    "print('Total Tokens (After) : ',len(tokens))\n"
   ]
  },
  {
   "cell_type": "code",
   "execution_count": 53,
   "metadata": {},
   "outputs": [],
   "source": [
    "def save_list(lines, filename):\n",
    "    data = '\\n'.join(lines)\n",
    "    file = open(filename, 'w')\n",
    "    file.write(data)\n",
    "    file.close()\n",
    "\n",
    "save_list(tokens, 'vocab.txt')   # the vocabulary is saved in a text file for later use"
   ]
  },
  {
   "cell_type": "code",
   "execution_count": 54,
   "metadata": {},
   "outputs": [],
   "source": [
    "def reviews_to_lines(directory, vocab):\n",
    "    lines = []\n",
    "    for filename in listdir(directory):\n",
    "        filepath = directory + filename\n",
    "        text = load_file(filepath)  # load the file\n",
    "        tokens = clean_file(text)   # clean the file\n",
    "        tokens = [word for word in tokens if word in vocab]   # filter by vocab\n",
    "        line = ' '.join(tokens)     # single review -> tokens -> filter -> single line with tokens spaced by whitespace\n",
    "        lines.append(line)          # list of reviews. Single review is stored at each index of the list\n",
    "    return lines\n",
    "\n",
    "# load the vocabulary\n",
    "vocab = load_file(\"vocab.txt\")\n",
    "vocab = vocab.split()\n",
    "vocab = set(vocab)\n",
    "\n",
    "# Training Data : reviews to lines\n",
    "train_pos_reviews_to_lines = reviews_to_lines(train_set_pos_path, vocab)\n",
    "train_neg_reviews_to_lines = reviews_to_lines(train_set_neg_path, vocab)\n",
    "\n",
    "# Test Data : reviews to lines\n",
    "test_pos_reviews_to_lines = reviews_to_lines(test_set_pos_path, vocab)\n",
    "test_neg_reviews_to_lines = reviews_to_lines(test_set_neg_path, vocab)\n",
    "\n",
    "# Total training and testing data\n",
    "train_reviews = train_pos_reviews_to_lines + train_neg_reviews_to_lines\n",
    "test_reviews  = test_pos_reviews_to_lines  + test_neg_reviews_to_lines"
   ]
  },
  {
   "cell_type": "code",
   "execution_count": 55,
   "metadata": {},
   "outputs": [
    {
     "name": "stdout",
     "output_type": "stream",
     "text": [
      " Shape of xtrain:  (1800, 25768)\n",
      " Shape of xtest :  (200, 25768)\n"
     ]
    }
   ],
   "source": [
    "from keras.preprocessing.text import Tokenizer\n",
    "\n",
    "def prepare_data(train_reviews, test_reviews, mode):\n",
    "    tokenizer = Tokenizer()\n",
    "    tokenizer.fit_on_texts(train_reviews) # fit the tokenizer on the texts\n",
    "\n",
    "    xtrain = tokenizer.texts_to_matrix(train_reviews, mode = mode)  # encode the training set\n",
    "    xtest  = tokenizer.texts_to_matrix(test_reviews, mode = mode)   # encode the test set\n",
    "\n",
    "    return xtrain, xtest\n",
    "\n",
    "xtrain, xtest = prepare_data(train_reviews, test_reviews, mode = 'freq')\n",
    "\n",
    "print(\" Shape of xtrain: \", xtrain.shape)\n",
    "print(\" Shape of xtest : \", xtest.shape)"
   ]
  },
  {
   "cell_type": "code",
   "execution_count": 56,
   "metadata": {},
   "outputs": [],
   "source": [
    "import numpy as np\n",
    "\n",
    "train_pos_limit = int(xtrain.shape[0]/2) # upper limit of pos training reviews\n",
    "train_neg_limit = xtrain.shape[0]        # upper limit of neg training reviews\n",
    "test_pos_limit  = int(xtest.shape[0]/2)  # upper limit of pos test reviews\n",
    "test_neg_limit  = xtest.shape[0]         # upper limit of neg test reviews \n",
    "\n",
    "ytrain = np.array([0 for i in range(0, train_pos_limit)] + [1 for i in range(train_pos_limit, train_neg_limit)])\n",
    "ytest  = np.array([0 for i in range(0, test_pos_limit)]  + [1 for i in range(test_pos_limit, test_neg_limit)])\n"
   ]
  },
  {
   "cell_type": "code",
   "execution_count": 57,
   "metadata": {},
   "outputs": [
    {
     "name": "stdout",
     "output_type": "stream",
     "text": [
      "Epoch 1/25\n",
      " - 2s - loss: 0.6927 - accuracy: 0.4967\n",
      "Epoch 2/25\n",
      " - 2s - loss: 0.6890 - accuracy: 0.5583\n",
      "Epoch 3/25\n",
      " - 2s - loss: 0.6791 - accuracy: 0.7961\n",
      "Epoch 4/25\n",
      " - 2s - loss: 0.6628 - accuracy: 0.7172\n",
      "Epoch 5/25\n",
      " - 2s - loss: 0.6364 - accuracy: 0.9022\n",
      "Epoch 6/25\n",
      " - 2s - loss: 0.6037 - accuracy: 0.9289\n",
      "Epoch 7/25\n",
      " - 2s - loss: 0.5682 - accuracy: 0.9361\n",
      "Epoch 8/25\n",
      " - 2s - loss: 0.5296 - accuracy: 0.9461\n",
      "Epoch 9/25\n",
      " - 2s - loss: 0.4906 - accuracy: 0.9517\n",
      "Epoch 10/25\n",
      " - 2s - loss: 0.4522 - accuracy: 0.9578\n",
      "Epoch 11/25\n",
      " - 2s - loss: 0.4162 - accuracy: 0.9622\n",
      "Epoch 12/25\n",
      " - 2s - loss: 0.3814 - accuracy: 0.9661\n",
      "Epoch 13/25\n",
      " - 2s - loss: 0.3498 - accuracy: 0.9722\n",
      "Epoch 14/25\n",
      " - 2s - loss: 0.3200 - accuracy: 0.9794\n",
      "Epoch 15/25\n",
      " - 2s - loss: 0.2929 - accuracy: 0.9800\n",
      "Epoch 16/25\n",
      " - 2s - loss: 0.2693 - accuracy: 0.9828\n",
      "Epoch 17/25\n",
      " - 2s - loss: 0.2461 - accuracy: 0.9856\n",
      "Epoch 18/25\n",
      " - 2s - loss: 0.2259 - accuracy: 0.9878\n",
      "Epoch 19/25\n",
      " - 2s - loss: 0.2077 - accuracy: 0.9889\n",
      "Epoch 20/25\n",
      " - 2s - loss: 0.1907 - accuracy: 0.9917\n",
      "Epoch 21/25\n",
      " - 2s - loss: 0.1756 - accuracy: 0.9922\n",
      "Epoch 22/25\n",
      " - 2s - loss: 0.1617 - accuracy: 0.9944\n",
      "Epoch 23/25\n",
      " - 2s - loss: 0.1492 - accuracy: 0.9944\n",
      "Epoch 24/25\n",
      " - 2s - loss: 0.1380 - accuracy: 0.9967\n",
      "Epoch 25/25\n",
      " - 2s - loss: 0.1271 - accuracy: 0.9967\n"
     ]
    }
   ],
   "source": [
    "from keras.models import Sequential\n",
    "from keras.layers import Dense\n",
    "from keras.layers import Dropout\n",
    "\n",
    "def seniment_analysis_model(xtrain, ytrain):\n",
    "    n_words = xtrain.shape[1]  \n",
    "    # define the network\n",
    "    model = Sequential()\n",
    "    model.add(Dense(50, input_shape = (n_words, ), activation = 'relu'))\n",
    "    model.add(Dense(1, activation = 'sigmoid'))\n",
    "    # compile the network\n",
    "    model.compile(loss = 'binary_crossentropy', optimizer = 'adam', metrics = ['accuracy'])\n",
    "    # fit the network to the training data\n",
    "    history = model.fit(xtrain, ytrain, epochs = 25, verbose = 2)\n",
    "    \n",
    "    return model, history\n",
    "\n",
    "classifier, model_history = seniment_analysis_model(xtrain, ytrain)"
   ]
  },
  {
   "cell_type": "code",
   "execution_count": 58,
   "metadata": {},
   "outputs": [
    {
     "name": "stdout",
     "output_type": "stream",
     "text": [
      "Test accuracy =  89.99999761581421\n"
     ]
    }
   ],
   "source": [
    "loss, accuracy = classifier.evaluate(xtest, ytest, verbose = 0)\n",
    "print('Test accuracy = ', (accuracy * 100))"
   ]
  },
  {
   "cell_type": "code",
   "execution_count": 59,
   "metadata": {},
   "outputs": [
    {
     "data": {
      "text/plain": [
       "dict_keys(['loss', 'accuracy'])"
      ]
     },
     "execution_count": 59,
     "metadata": {},
     "output_type": "execute_result"
    }
   ],
   "source": [
    "model_history.history.keys()"
   ]
  },
  {
   "cell_type": "code",
   "execution_count": 60,
   "metadata": {},
   "outputs": [
    {
     "data": {
      "text/plain": [
       "<matplotlib.legend.Legend at 0x23c866eee88>"
      ]
     },
     "execution_count": 60,
     "metadata": {},
     "output_type": "execute_result"
    },
    {
     "data": {
      "image/png": "[encoded data removed]",
      "text/plain": [
       "<Figure size 432x288 with 1 Axes>"
      ]
     },
     "metadata": {
      "needs_background": "light"
     },
     "output_type": "display_data"
    }
   ],
   "source": [
    "# plot for visulizing how the loss and accuracy changes with each epoch of training\n",
    "\n",
    "import matplotlib.pyplot as plt\n",
    "%matplotlib inline\n",
    "\n",
    "\n",
    "plt.plot(model_history.history['accuracy'], label = 'accuracy')\n",
    "plt.plot( model_history.history['loss'], label = 'loss')\n",
    "plt.xlabel('epochs')\n",
    "plt.legend(loc = 'center right')"
   ]
  },
  {
   "cell_type": "code",
   "execution_count": null,
   "metadata": {},
   "outputs": [],
   "source": []
  }
 ],
 "metadata": {
  "kernelspec": {
   "display_name": "Python 3",
   "language": "python",
   "name": "python3"
  },
  "language_info": {
   "codemirror_mode": {
    "name": "ipython",
    "version": 3
   },
   "file_extension": ".py",
   "mimetype": "text/x-python",
   "name": "python",
   "nbconvert_exporter": "python",
   "pygments_lexer": "ipython3",
   "version": "3.6.4"
  }
 },
 "nbformat": 4,
 "nbformat_minor": 2
}
